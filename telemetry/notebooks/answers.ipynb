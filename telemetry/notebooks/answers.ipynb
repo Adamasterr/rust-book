{
 "cells": [
  {
   "cell_type": "code",
   "execution_count": null,
   "id": "c97e6ac7",
   "metadata": {},
   "outputs": [],
   "source": [
    "import utils\n",
    "import pandas as pd"
   ]
  },
  {
   "cell_type": "code",
   "execution_count": null,
   "id": "44b922d2",
   "metadata": {},
   "outputs": [],
   "source": [
    "quizzes = utils.load_quizzes()"
   ]
  },
  {
   "cell_type": "code",
   "execution_count": null,
   "id": "59a84d4e",
   "metadata": {},
   "outputs": [],
   "source": [
    "answers = utils.load_log('answers')"
   ]
  },
  {
   "cell_type": "code",
   "execution_count": null,
   "id": "f5f8851d",
   "metadata": {},
   "outputs": [],
   "source": [
    "# Convert UTC timestamp to datetime\n",
    "answers['timestamp'] = pd.to_datetime(answers['timestamp'], unit='ms')\n",
    "\n",
    "# Only keep the latest complete answer for a given user/quiz pair\n",
    "get_latest = lambda group: group.iloc[group.timestamp.argmax()]\n",
    "did_complete_quiz = lambda row: len(row.answers) == len(quizzes[row.quizName]['questions'])\n",
    "groups = ['sessionId', 'quizName']\n",
    "answers = answers \\\n",
    "    .loc[lambda df: df.apply(did_complete_quiz, axis=1)] \\\n",
    "    .groupby(groups) \\\n",
    "    .apply(get_latest) \\\n",
    "    .drop(columns=groups) \\\n",
    "    .reset_index()\n",
    "                                                    \n",
    "answers['frac_correct'] = answers.answers.map(lambda a: len([o for o in a if o['correct']]) / len(a))"
   ]
  },
  {
   "cell_type": "code",
   "execution_count": null,
   "id": "dbc4125c",
   "metadata": {},
   "outputs": [],
   "source": [
    "answers.groupby('quizName').frac_correct.describe()[['count', 'mean', '50%']].sort_values('mean')"
   ]
  }
 ],
 "metadata": {
  "kernelspec": {
   "display_name": "Python 3 (ipykernel)",
   "language": "python",
   "name": "python3"
  },
  "language_info": {
   "codemirror_mode": {
    "name": "ipython",
    "version": 3
   },
   "file_extension": ".py",
   "mimetype": "text/x-python",
   "name": "python",
   "nbconvert_exporter": "python",
   "pygments_lexer": "ipython3",
   "version": "3.7.7"
  }
 },
 "nbformat": 4,
 "nbformat_minor": 5
}
