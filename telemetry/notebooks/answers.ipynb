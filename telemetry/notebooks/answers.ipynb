{
 "cells": [
  {
   "cell_type": "code",
   "execution_count": null,
   "id": "c97e6ac7",
   "metadata": {},
   "outputs": [],
   "source": [
    "import utils\n",
    "import pandas as pd\n",
    "from pprint import pprint\n",
    "import json\n",
    "import numpy as np\n"
   ]
  },
  {
   "cell_type": "code",
   "execution_count": null,
   "id": "44b922d2",
   "metadata": {},
   "outputs": [],
   "source": [
    "answers, answers_flat, quizzes = utils.load_latest_answers()"
   ]
  },
  {
   "cell_type": "markdown",
   "id": "e74093ea",
   "metadata": {},
   "source": [
    "# Quiz-level performance"
   ]
  },
  {
   "cell_type": "code",
   "execution_count": null,
   "id": "a022c5c6",
   "metadata": {},
   "outputs": [],
   "source": [
    "def ci(ser):\n",
    "    mu = ser.mean()\n",
    "    sigma = ser.sem()\n",
    "    return f'{mu:.02f} ± {2*sigma:.02f} (N = {len(ser)})'\n",
    "answers.groupby(['quizName', 'version']).frac_correct.apply(ci)"
   ]
  },
  {
   "cell_type": "code",
   "execution_count": null,
   "id": "dbc4125c",
   "metadata": {},
   "outputs": [],
   "source": [
    "answers.groupby('quizName').frac_correct.describe()[['count', 'mean', '50%']].sort_values('quizName')"
   ]
  },
  {
   "cell_type": "markdown",
   "id": "946d89a2",
   "metadata": {},
   "source": [
    "# Question-level performance"
   ]
  },
  {
   "cell_type": "code",
   "execution_count": null,
   "id": "5acf0120",
   "metadata": {},
   "outputs": [],
   "source": [
    "\n",
    "for quiz_name, versions in sorted(quizzes.quizzes.items(), key=lambda t: t[0]):\n",
    "    schema = max(versions['schemas'].values(), key=lambda d: d['version'])['schema']\n",
    "    quiz_answers = answers[answers.quizName == quiz_name]\n",
    "    N = len(quiz_answers)\n",
    "    if N < 2: continue\n",
    "    \n",
    "    meta = [\n",
    "        {\n",
    "            'n': 0,\n",
    "            'bad_answers': []\n",
    "        } \n",
    "        for _ in range(len(schema['questions']))\n",
    "    ]\n",
    "    for user_answers in quiz_answers.answers:\n",
    "        for i, answer in enumerate(user_answers):\n",
    "            m = meta[i]\n",
    "            if answer['correct']:\n",
    "                m['n'] += 1\n",
    "            else:\n",
    "                m['bad_answers'].append(answer['answer'])\n",
    "    \n",
    "    \n",
    "    print(f'{\"=\"*10} QUIZ: {quiz_name} {\"=\"*10}')\n",
    "    for i, q in enumerate(schema['questions']):\n",
    "        m = meta[i]\n",
    "        lower, upper = proportion_confint(m['n'], N)\n",
    "        print(f\"QUESTION {i+1}\")\n",
    "        print(f'%correct: {m[\"n\"]/N:.02f} ([{lower:.02f} - {upper:.02f}], N = {N})')\n",
    "        pprint(q['prompt'])\n",
    "        print(m['bad_answers'])\n",
    "        print()\n",
    "    \n",
    "    print('\\n\\n')"
   ]
  },
  {
   "cell_type": "markdown",
   "id": "a55923ea",
   "metadata": {},
   "source": [
    "# User-level performance"
   ]
  },
  {
   "cell_type": "code",
   "execution_count": null,
   "id": "cb2f076f",
   "metadata": {},
   "outputs": [],
   "source": [
    "answers.groupby('sessionId').frac_correct.describe()[['count', 'mean', '50%']].sort_values('count')"
   ]
  }
 ],
 "metadata": {
  "kernelspec": {
   "display_name": "Python 3 (ipykernel)",
   "language": "python",
   "name": "python3"
  },
  "language_info": {
   "codemirror_mode": {
    "name": "ipython",
    "version": 3
   },
   "file_extension": ".py",
   "mimetype": "text/x-python",
   "name": "python",
   "nbconvert_exporter": "python",
   "pygments_lexer": "ipython3",
   "version": "3.7.7"
  }
 },
 "nbformat": 4,
 "nbformat_minor": 5
}
