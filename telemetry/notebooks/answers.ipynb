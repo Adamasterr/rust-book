{
 "cells": [
  {
   "cell_type": "code",
   "execution_count": 6,
   "id": "c97e6ac7",
   "metadata": {},
   "outputs": [],
   "source": [
    "import utils\n",
    "import pandas as pd"
   ]
  },
  {
   "cell_type": "code",
   "execution_count": 2,
   "id": "44b922d2",
   "metadata": {},
   "outputs": [],
   "source": [
    "quizzes = utils.load_quizzes()"
   ]
  },
  {
   "cell_type": "code",
   "execution_count": 4,
   "id": "59a84d4e",
   "metadata": {},
   "outputs": [],
   "source": [
    "answers = utils.load_log('answers')"
   ]
  },
  {
   "cell_type": "code",
   "execution_count": 7,
   "id": "f5f8851d",
   "metadata": {},
   "outputs": [],
   "source": [
    "# Convert UTC timestamp to datetime\n",
    "answers['timestamp'] = pd.to_datetime(answers['timestamp'], unit='ms')\n",
    "\n",
    "# Only keep the latest complete answer for a given user/quiz pair\n",
    "get_latest = lambda group: group.iloc[group.timestamp.argmax()]\n",
    "did_complete_quiz = lambda row: len(row.answers) == len(quizzes[row.quizName]['questions'])\n",
    "answers = answers \\\n",
    "    .loc[lambda df: df.apply(did_complete_quiz, axis=1)] \\\n",
    "    .groupby(['sessionId', 'quizName']) \\\n",
    "    .apply(get_latest) \\\n",
    "    .drop(columns=['sessionId', 'quizName']) \\\n",
    "    .reset_index()\n",
    "                                                    \n",
    "answers['frac_correct'] = answers.answers.map(lambda a: len([o for o in a if o['correct']]) / len(a))"
   ]
  },
  {
   "cell_type": "code",
   "execution_count": 8,
   "id": "dbc4125c",
   "metadata": {},
   "outputs": [
    {
     "data": {
      "text/html": [
       "<div>\n",
       "<style scoped>\n",
       "    .dataframe tbody tr th:only-of-type {\n",
       "        vertical-align: middle;\n",
       "    }\n",
       "\n",
       "    .dataframe tbody tr th {\n",
       "        vertical-align: top;\n",
       "    }\n",
       "\n",
       "    .dataframe thead th {\n",
       "        text-align: right;\n",
       "    }\n",
       "</style>\n",
       "<table border=\"1\" class=\"dataframe\">\n",
       "  <thead>\n",
       "    <tr style=\"text-align: right;\">\n",
       "      <th></th>\n",
       "      <th>count</th>\n",
       "      <th>mean</th>\n",
       "      <th>50%</th>\n",
       "    </tr>\n",
       "    <tr>\n",
       "      <th>quizName</th>\n",
       "      <th></th>\n",
       "      <th></th>\n",
       "      <th></th>\n",
       "    </tr>\n",
       "  </thead>\n",
       "  <tbody>\n",
       "    <tr>\n",
       "      <th>example-quiz</th>\n",
       "      <td>1.0</td>\n",
       "      <td>0.0</td>\n",
       "      <td>0.0</td>\n",
       "    </tr>\n",
       "  </tbody>\n",
       "</table>\n",
       "</div>"
      ],
      "text/plain": [
       "              count  mean  50%\n",
       "quizName                      \n",
       "example-quiz    1.0   0.0  0.0"
      ]
     },
     "execution_count": 8,
     "metadata": {},
     "output_type": "execute_result"
    }
   ],
   "source": [
    "answers.groupby('quizName').frac_correct.describe()[['count', 'mean', '50%']].sort_values('mean')"
   ]
  }
 ],
 "metadata": {
  "kernelspec": {
   "display_name": "Python 3 (ipykernel)",
   "language": "python",
   "name": "python3"
  },
  "language_info": {
   "codemirror_mode": {
    "name": "ipython",
    "version": 3
   },
   "file_extension": ".py",
   "mimetype": "text/x-python",
   "name": "python",
   "nbconvert_exporter": "python",
   "pygments_lexer": "ipython3",
   "version": "3.7.7"
  }
 },
 "nbformat": 4,
 "nbformat_minor": 5
}
