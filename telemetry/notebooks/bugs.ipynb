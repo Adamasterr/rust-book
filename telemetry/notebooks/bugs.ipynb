{
 "cells": [
  {
   "cell_type": "code",
   "execution_count": 2,
   "id": "5cc92a64",
   "metadata": {},
   "outputs": [],
   "source": [
    "import utils"
   ]
  },
  {
   "cell_type": "code",
   "execution_count": 4,
   "id": "95e8553f",
   "metadata": {},
   "outputs": [],
   "source": [
    "bugs = utils.load_log('bug')"
   ]
  },
  {
   "cell_type": "code",
   "execution_count": 16,
   "id": "af2e9695",
   "metadata": {},
   "outputs": [
    {
     "name": "stdout",
     "output_type": "stream",
     "text": [
      "==== QUIZ: example-quiz\n",
      "F O CK this question.\n"
     ]
    }
   ],
   "source": [
    "for quiz in bugs.quizName.unique():\n",
    "    quiz_bugs = bugs[bugs.quizName == quiz]\n",
    "    print(f'==== QUIZ: {quiz}')\n",
    "    print('\\n\\n'.join(quiz_bugs.feedback.tolist()))"
   ]
  }
 ],
 "metadata": {
  "kernelspec": {
   "display_name": "Python 3 (ipykernel)",
   "language": "python",
   "name": "python3"
  },
  "language_info": {
   "codemirror_mode": {
    "name": "ipython",
    "version": 3
   },
   "file_extension": ".py",
   "mimetype": "text/x-python",
   "name": "python",
   "nbconvert_exporter": "python",
   "pygments_lexer": "ipython3",
   "version": "3.7.7"
  }
 },
 "nbformat": 4,
 "nbformat_minor": 5
}
