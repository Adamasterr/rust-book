{
 "cells": [
  {
   "cell_type": "code",
   "execution_count": null,
   "id": "5cc92a64",
   "metadata": {},
   "outputs": [],
   "source": [
    "import utils"
   ]
  },
  {
   "cell_type": "code",
   "execution_count": null,
   "id": "95e8553f",
   "metadata": {},
   "outputs": [],
   "source": [
    "bugs = utils.load_log('bug')"
   ]
  },
  {
   "cell_type": "code",
   "execution_count": null,
   "id": "af2e9695",
   "metadata": {},
   "outputs": [],
   "source": [
    "for quiz in bugs.quizName.unique():\n",
    "    quiz_bugs = bugs[bugs.quizName == quiz]\n",
    "    print(f'==== QUIZ: {quiz}')\n",
    "    for _, r in quiz_bugs.iterrows():\n",
    "        print(f'QUESTION {r.question}')\n",
    "        print(r.feedback)\n",
    "        print()\n"
   ]
  }
 ],
 "metadata": {
  "kernelspec": {
   "display_name": "Python 3 (ipykernel)",
   "language": "python",
   "name": "python3"
  },
  "language_info": {
   "codemirror_mode": {
    "name": "ipython",
    "version": 3
   },
   "file_extension": ".py",
   "mimetype": "text/x-python",
   "name": "python",
   "nbconvert_exporter": "python",
   "pygments_lexer": "ipython3",
   "version": "3.7.7"
  }
 },
 "nbformat": 4,
 "nbformat_minor": 5
}
